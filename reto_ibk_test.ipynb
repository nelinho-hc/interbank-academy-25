{
 "cells": [
  {
   "cell_type": "code",
   "execution_count": 22,
   "id": "6bf8969e",
   "metadata": {},
   "outputs": [],
   "source": [
    "from tkinter.filedialog import askopenfilename\n",
    "import pandas as pd"
   ]
  },
  {
   "cell_type": "code",
   "execution_count": 23,
   "id": "79965c12",
   "metadata": {},
   "outputs": [],
   "source": [
    "ruta_csv = askopenfilename()\n",
    "df = pd.read_csv(ruta_csv, sep=\",\")"
   ]
  },
  {
   "cell_type": "code",
   "execution_count": 24,
   "id": "0c8ab640",
   "metadata": {},
   "outputs": [
    {
     "name": "stdout",
     "output_type": "stream",
     "text": [
      "<class 'pandas.core.frame.DataFrame'>\n",
      "RangeIndex: 10 entries, 0 to 9\n",
      "Data columns (total 3 columns):\n",
      " #   Column  Non-Null Count  Dtype  \n",
      "---  ------  --------------  -----  \n",
      " 0   id      10 non-null     int64  \n",
      " 1   tipo    10 non-null     object \n",
      " 2   monto   10 non-null     float64\n",
      "dtypes: float64(1), int64(1), object(1)\n",
      "memory usage: 372.0+ bytes\n"
     ]
    }
   ],
   "source": [
    "df.info()"
   ]
  },
  {
   "cell_type": "code",
   "execution_count": 25,
   "id": "c4d0b1f6",
   "metadata": {},
   "outputs": [
    {
     "data": {
      "text/html": [
       "<div>\n",
       "<style scoped>\n",
       "    .dataframe tbody tr th:only-of-type {\n",
       "        vertical-align: middle;\n",
       "    }\n",
       "\n",
       "    .dataframe tbody tr th {\n",
       "        vertical-align: top;\n",
       "    }\n",
       "\n",
       "    .dataframe thead th {\n",
       "        text-align: right;\n",
       "    }\n",
       "</style>\n",
       "<table border=\"1\" class=\"dataframe\">\n",
       "  <thead>\n",
       "    <tr style=\"text-align: right;\">\n",
       "      <th></th>\n",
       "      <th>id</th>\n",
       "      <th>tipo</th>\n",
       "      <th>monto</th>\n",
       "    </tr>\n",
       "  </thead>\n",
       "  <tbody>\n",
       "    <tr>\n",
       "      <th>0</th>\n",
       "      <td>1</td>\n",
       "      <td>Crédito</td>\n",
       "      <td>941.3</td>\n",
       "    </tr>\n",
       "    <tr>\n",
       "      <th>1</th>\n",
       "      <td>2</td>\n",
       "      <td>Débito</td>\n",
       "      <td>540.0</td>\n",
       "    </tr>\n",
       "    <tr>\n",
       "      <th>2</th>\n",
       "      <td>3</td>\n",
       "      <td>Crédito</td>\n",
       "      <td>439.2</td>\n",
       "    </tr>\n",
       "    <tr>\n",
       "      <th>3</th>\n",
       "      <td>4</td>\n",
       "      <td>Débito</td>\n",
       "      <td>325.0</td>\n",
       "    </tr>\n",
       "    <tr>\n",
       "      <th>4</th>\n",
       "      <td>5</td>\n",
       "      <td>Crédito</td>\n",
       "      <td>1070.5</td>\n",
       "    </tr>\n",
       "  </tbody>\n",
       "</table>\n",
       "</div>"
      ],
      "text/plain": [
       "   id     tipo   monto\n",
       "0   1  Crédito   941.3\n",
       "1   2   Débito   540.0\n",
       "2   3  Crédito   439.2\n",
       "3   4   Débito   325.0\n",
       "4   5  Crédito  1070.5"
      ]
     },
     "execution_count": 25,
     "metadata": {},
     "output_type": "execute_result"
    }
   ],
   "source": [
    "df.head()"
   ]
  },
  {
   "cell_type": "code",
   "execution_count": 26,
   "id": "ab4971e7",
   "metadata": {},
   "outputs": [
    {
     "name": "stdout",
     "output_type": "stream",
     "text": [
      "1736.0\n"
     ]
    }
   ],
   "source": [
    "total_debito = df[\"monto\"].loc[df[\"tipo\"] == \"Débito\"].sum()\n",
    "total_credito = df[\"monto\"].loc[df[\"tipo\"] == \"Crédito\"].sum()\n",
    "\n",
    "balance_final = total_credito - total_debito\n",
    "print(balance_final)"
   ]
  },
  {
   "cell_type": "code",
   "execution_count": 27,
   "id": "dfbb0cdd",
   "metadata": {},
   "outputs": [
    {
     "data": {
      "text/html": [
       "<div>\n",
       "<style scoped>\n",
       "    .dataframe tbody tr th:only-of-type {\n",
       "        vertical-align: middle;\n",
       "    }\n",
       "\n",
       "    .dataframe tbody tr th {\n",
       "        vertical-align: top;\n",
       "    }\n",
       "\n",
       "    .dataframe thead th {\n",
       "        text-align: right;\n",
       "    }\n",
       "</style>\n",
       "<table border=\"1\" class=\"dataframe\">\n",
       "  <thead>\n",
       "    <tr style=\"text-align: right;\">\n",
       "      <th></th>\n",
       "      <th>id</th>\n",
       "      <th>tipo</th>\n",
       "      <th>monto</th>\n",
       "    </tr>\n",
       "  </thead>\n",
       "  <tbody>\n",
       "    <tr>\n",
       "      <th>4</th>\n",
       "      <td>5</td>\n",
       "      <td>Crédito</td>\n",
       "      <td>1070.5</td>\n",
       "    </tr>\n",
       "  </tbody>\n",
       "</table>\n",
       "</div>"
      ],
      "text/plain": [
       "   id     tipo   monto\n",
       "4   5  Crédito  1070.5"
      ]
     },
     "execution_count": 27,
     "metadata": {},
     "output_type": "execute_result"
    }
   ],
   "source": [
    "tr_mayor = df.loc[df[\"monto\"] == df[\"monto\"].max()]\n",
    "tr_mayor"
   ]
  },
  {
   "cell_type": "code",
   "execution_count": 28,
   "id": "1c9ab649",
   "metadata": {},
   "outputs": [
    {
     "name": "stdout",
     "output_type": "stream",
     "text": [
      "4\n"
     ]
    }
   ],
   "source": [
    "print(tr_mayor.index[0])"
   ]
  },
  {
   "cell_type": "code",
   "execution_count": 29,
   "id": "661b54c1",
   "metadata": {},
   "outputs": [
    {
     "name": "stdout",
     "output_type": "stream",
     "text": [
      "5\n"
     ]
    }
   ],
   "source": [
    "id_tr_mayor = tr_mayor[\"id\"][tr_mayor.index[0]]\n",
    "print(id_tr_mayor)"
   ]
  },
  {
   "cell_type": "code",
   "execution_count": 30,
   "id": "da3f4d99",
   "metadata": {},
   "outputs": [
    {
     "name": "stdout",
     "output_type": "stream",
     "text": [
      "1070.5\n"
     ]
    }
   ],
   "source": [
    "monto_tr_mayor = tr_mayor[\"monto\"][tr_mayor.index[0]]\n",
    "print(monto_tr_mayor)"
   ]
  },
  {
   "cell_type": "code",
   "execution_count": 31,
   "id": "b714152e",
   "metadata": {},
   "outputs": [
    {
     "data": {
      "text/plain": [
       "tipo\n",
       "Crédito    6\n",
       "Débito     4\n",
       "Name: tipo, dtype: int64"
      ]
     },
     "execution_count": 31,
     "metadata": {},
     "output_type": "execute_result"
    }
   ],
   "source": [
    "df[\"tipo\"].groupby(df[\"tipo\"]).count()"
   ]
  },
  {
   "cell_type": "code",
   "execution_count": 32,
   "id": "5a92db58",
   "metadata": {},
   "outputs": [
    {
     "name": "stdout",
     "output_type": "stream",
     "text": [
      "6\n",
      "4\n"
     ]
    }
   ],
   "source": [
    "recuento_credito = df[\"tipo\"].loc[df[\"tipo\"] == \"Crédito\"].count()\n",
    "recuento_debito = df[\"tipo\"].loc[df[\"tipo\"] == \"Débito\"].count()\n",
    "\n",
    "print(recuento_credito)\n",
    "print(recuento_debito)"
   ]
  },
  {
   "cell_type": "code",
   "execution_count": null,
   "id": "205cd470",
   "metadata": {},
   "outputs": [
    {
     "name": "stdout",
     "output_type": "stream",
     "text": [
      "Reporte de transacciones\n",
      "---------------------------------------------\n",
      "Balance Final: 1736.0\n",
      "Transacción de Monto Mayor: ID 5 - 1070.5\n",
      "Conteo de Transacciones: Crédito: 6 Débito: 4\n",
      "\n"
     ]
    }
   ],
   "source": [
    "print(f\"\"\"Reporte de transacciones\n",
    "---------------------------------------------\n",
    "Balance Final: {balance_final:.2f}\n",
    "Transacción de Monto Mayor: ID {id_tr_mayor} - {monto_tr_mayor:2f}\n",
    "Conteo de Transacciones: Crédito: {recuento_credito} Débito: {recuento_debito}\"\"\")"
   ]
  }
 ],
 "metadata": {
  "kernelspec": {
   "display_name": "Python 3",
   "language": "python",
   "name": "python3"
  },
  "language_info": {
   "codemirror_mode": {
    "name": "ipython",
    "version": 3
   },
   "file_extension": ".py",
   "mimetype": "text/x-python",
   "name": "python",
   "nbconvert_exporter": "python",
   "pygments_lexer": "ipython3",
   "version": "3.12.2"
  }
 },
 "nbformat": 4,
 "nbformat_minor": 5
}
